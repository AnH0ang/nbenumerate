{
 "cells": [
  {
   "cell_type": "markdown",
   "metadata": {},
   "source": [
    "# Header"
   ]
  },
  {
   "cell_type": "markdown",
   "metadata": {},
   "source": [
    "## Sub Header\n",
    "\n",
    "Lorem Ipsum one two three"
   ]
  },
  {
   "cell_type": "code",
   "execution_count": null,
   "metadata": {},
   "outputs": [],
   "source": [
    "def foo(x):\n",
    "    return"
   ]
  },
  {
   "cell_type": "markdown",
   "metadata": {},
   "source": [
    "# Second Header\n",
    "\n",
    "## Sub\n",
    "\n",
    "### Sub Sub Sub\n",
    "\n",
    "```\n",
    "all work and no play makes jack a dull boy\n",
    "all work and no play makes jack a dull boy\n",
    "all work and no play makes jack a dull boy\n",
    "all work and no play makes jack a dull boy\n",
    "all work and no play makes jack a dull boy\n",
    "all work and no play makes jack a dull boy\n",
    "all work and no play makes jack a dull boy\n",
    "all work and no play makes jack a dull boy\n",
    "all work and no play makes jack a dull boy\n",
    "all work and no play makes jack a dull boy\n",
    "all work and no play makes jack a dull boy\n",
    "all work and no play makes jack a dull boy\n",
    "```"
   ]
  },
  {
   "cell_type": "code",
   "execution_count": null,
   "metadata": {},
   "outputs": [],
   "source": [
    "from dataclasses import dataclass\n",
    "\n",
    "\n",
    "@dataclass\n",
    "class A:\n",
    "    b: int\n",
    "    c: int"
   ]
  }
 ],
 "metadata": {
  "language_info": {
   "name": "python"
  },
  "orig_nbformat": 4
 },
 "nbformat": 4,
 "nbformat_minor": 2
}
